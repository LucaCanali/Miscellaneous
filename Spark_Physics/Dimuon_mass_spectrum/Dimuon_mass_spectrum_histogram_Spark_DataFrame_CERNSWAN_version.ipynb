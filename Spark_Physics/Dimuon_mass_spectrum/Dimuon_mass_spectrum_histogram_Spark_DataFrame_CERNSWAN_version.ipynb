{
 "cells": [
  {
   "cell_type": "markdown",
   "id": "c97f8c4d",
   "metadata": {},
   "source": [
    "# Histogram of the Dimuon Mass Spectrum\n",
    "\n",
    "This implements the dimuon mass spectrum analysis, a \"Hello World!\" example for data analysis in High Energy Physics. It is intended as a technology demonstrator for the use Apache Spark for High Energy Physics.\n",
    "\n",
    "The workload and data:\n",
    "  - The input data is a series of candidate muon events. \n",
    "  - The job output is a histogram of the dimuon mass spectrum, where several peaks (resonances) can be identified corresponding to well-know particles (e.g. the Z boson at 91 Gev).\n",
    "  - The computation is based on https://root.cern.ch/doc/master/df102__NanoAODDimuonAnalysis_8C.html and CERN open data from the CMS collaboration linked there. \n",
    "  - See also https://github.com/LucaCanali/Miscellaneous/Spark_Physics\n",
    "  \n",
    "Author and contact: Luca.Canali@cern.ch  \n",
    "January, 2022"
   ]
  },
  {
   "cell_type": "markdown",
   "id": "22d54a3d",
   "metadata": {},
   "source": [
    "## Dimuon mass spectrum calculation with Spark DataFrame API"
   ]
  },
  {
   "cell_type": "code",
   "execution_count": null,
   "id": "be0c7ca3",
   "metadata": {},
   "outputs": [],
   "source": [
    "#\n",
    "# Local mode: run this when using CERN SWAN not connected to a cluster \n",
    "#             or run it on a private Jupyter notebook instance\n",
    "#             Dependency: PySpark (use SWAN or pip install pyspark)\n",
    "#\n",
    "# For CERN users: when using CERN SWAN connected to a cluster (analytix or cloud resources)\n",
    "#                 do not run this but rather click on the (star) button\n",
    "\n",
    "# Start the Spark Session\n",
    "from pyspark.sql import SparkSession\n",
    "spark = (SparkSession.builder\n",
    "         .appName(\"dimuon mass\")\n",
    "         .master(\"local[*]\")\n",
    "         .config(\"spark.driver.memory\", \"2g\")\n",
    "         .config(\"spark.ui.showConsoleProgress\", \"false\")\n",
    "         .getOrCreate()\n",
    "        )"
   ]
  },
  {
   "cell_type": "code",
   "execution_count": null,
   "id": "cabed284",
   "metadata": {},
   "outputs": [],
   "source": [
    "spark"
   ]
  },
  {
   "cell_type": "code",
   "execution_count": 3,
   "id": "ab108ade",
   "metadata": {},
   "outputs": [
    {
     "name": "stdout",
     "output_type": "stream",
     "text": [
      "root\n",
      " |-- nMuon: long (nullable = true)\n",
      " |-- Muon_pt: array (nullable = true)\n",
      " |    |-- element: float (containsNull = true)\n",
      " |-- Muon_eta: array (nullable = true)\n",
      " |    |-- element: float (containsNull = true)\n",
      " |-- Muon_phi: array (nullable = true)\n",
      " |    |-- element: float (containsNull = true)\n",
      " |-- Muon_mass: array (nullable = true)\n",
      " |    |-- element: float (containsNull = true)\n",
      " |-- Muon_charge: array (nullable = true)\n",
      " |    |-- element: integer (containsNull = true)\n",
      "\n",
      "Number of events: 61540413\n"
     ]
    }
   ],
   "source": [
    "# Read data with the muon candidate events\n",
    "# Further details of the available datasets at\n",
    "# https://github.com/LucaCanali/Miscellaneous/Spark_Physics\n",
    "\n",
    "# If you don't have access to CERN resources\n",
    "# Download the data (2 GB) if not yet available locally\n",
    "# ! wget https://sparkdltrigger.web.cern.ch/sparkdltrigger/Run2012BC_DoubleMuParked_Muons.parquet\n",
    "\n",
    "# Use this path to data when running from SWAN and/or CERN machines with eos mounted\n",
    "# this will work on CERN Swan when not connected to Spark cluster\n",
    "path = \"/eos/project/s/sparkdltrigger/public/\"\n",
    "\n",
    "# Use this when attached to the analytix Spark cluster at CERN\n",
    "# path = \"hdfs://analytix//project/spark/HEP/\"\n",
    "\n",
    "# Use this with the Hadoop XRootD connector reading from EOS\n",
    "# it is configured when using the cluster \"Spark on K8S\" at CERN\n",
    "# path = \"root://eosuser.cern.ch//eos/project/s/sparkdltrigger/public/\"\n",
    "\n",
    "data = \"Run2012BC_DoubleMuParked_Muons.parquet\"\n",
    "\n",
    "df_muons = spark.read.parquet(path + data)\n",
    "\n",
    "df_muons.printSchema()\n",
    "print(f\"Number of events: {df_muons.count()}\")"
   ]
  },
  {
   "cell_type": "code",
   "execution_count": 4,
   "id": "7d7908bb",
   "metadata": {},
   "outputs": [
    {
     "data": {
      "text/html": [
       "<div>\n",
       "<style scoped>\n",
       "    .dataframe tbody tr th:only-of-type {\n",
       "        vertical-align: middle;\n",
       "    }\n",
       "\n",
       "    .dataframe tbody tr th {\n",
       "        vertical-align: top;\n",
       "    }\n",
       "\n",
       "    .dataframe thead th {\n",
       "        text-align: right;\n",
       "    }\n",
       "</style>\n",
       "<table border=\"1\" class=\"dataframe\">\n",
       "  <thead>\n",
       "    <tr style=\"text-align: right;\">\n",
       "      <th></th>\n",
       "      <th>nMuon</th>\n",
       "      <th>Muon_pt</th>\n",
       "      <th>Muon_eta</th>\n",
       "      <th>Muon_phi</th>\n",
       "      <th>Muon_mass</th>\n",
       "      <th>Muon_charge</th>\n",
       "    </tr>\n",
       "  </thead>\n",
       "  <tbody>\n",
       "    <tr>\n",
       "      <th>0</th>\n",
       "      <td>2</td>\n",
       "      <td>[10.763696670532227, 15.736522674560547]</td>\n",
       "      <td>[1.0668272972106934, -0.563786506652832]</td>\n",
       "      <td>[-0.03427272289991379, 2.5426154136657715]</td>\n",
       "      <td>[0.10565836727619171, 0.10565836727619171]</td>\n",
       "      <td>[-1, -1]</td>\n",
       "    </tr>\n",
       "    <tr>\n",
       "      <th>1</th>\n",
       "      <td>2</td>\n",
       "      <td>[10.538490295410156, 16.327096939086914]</td>\n",
       "      <td>[-0.42778006196022034, 0.34922507405281067]</td>\n",
       "      <td>[-0.2747921049594879, 2.539781332015991]</td>\n",
       "      <td>[0.10565836727619171, 0.10565836727619171]</td>\n",
       "      <td>[1, -1]</td>\n",
       "    </tr>\n",
       "    <tr>\n",
       "      <th>2</th>\n",
       "      <td>1</td>\n",
       "      <td>[3.2753264904022217]</td>\n",
       "      <td>[2.210855484008789]</td>\n",
       "      <td>[-1.2234135866165161]</td>\n",
       "      <td>[0.10565836727619171]</td>\n",
       "      <td>[1]</td>\n",
       "    </tr>\n",
       "    <tr>\n",
       "      <th>3</th>\n",
       "      <td>4</td>\n",
       "      <td>[11.429154396057129, 17.634033203125, 9.624728...</td>\n",
       "      <td>[-1.5882395505905151, -1.7511844635009766, -1....</td>\n",
       "      <td>[-2.0773041248321533, 0.25135836005210876, -2....</td>\n",
       "      <td>[0.10565836727619171, 0.10565836727619171, 0.1...</td>\n",
       "      <td>[1, 1, 1, 1]</td>\n",
       "    </tr>\n",
       "    <tr>\n",
       "      <th>4</th>\n",
       "      <td>4</td>\n",
       "      <td>[3.2834417819976807, 3.64400577545166, 32.9112...</td>\n",
       "      <td>[-2.1724836826324463, -2.18253493309021, -1.12...</td>\n",
       "      <td>[-2.3700082302093506, -2.3051390647888184, -0....</td>\n",
       "      <td>[0.10565836727619171, 0.10565836727619171, 0.1...</td>\n",
       "      <td>[-1, -1, 1, 1]</td>\n",
       "    </tr>\n",
       "    <tr>\n",
       "      <th>5</th>\n",
       "      <td>3</td>\n",
       "      <td>[3.566528081893921, 4.572504043579102, 4.37186...</td>\n",
       "      <td>[-1.371932029724121, -0.703264594078064, -1.03...</td>\n",
       "      <td>[-2.9090449810028076, 2.4552080631256104, -3.0...</td>\n",
       "      <td>[0.10565836727619171, 0.10565836727619171, 0.1...</td>\n",
       "      <td>[-1, 1, -1]</td>\n",
       "    </tr>\n",
       "    <tr>\n",
       "      <th>6</th>\n",
       "      <td>2</td>\n",
       "      <td>[57.6067008972168, 53.04507827758789]</td>\n",
       "      <td>[-0.5320892930030823, -1.0041686296463013]</td>\n",
       "      <td>[-0.07179804146289825, 3.089515209197998]</td>\n",
       "      <td>[0.10565836727619171, 0.10565836727619171]</td>\n",
       "      <td>[-1, 1]</td>\n",
       "    </tr>\n",
       "    <tr>\n",
       "      <th>7</th>\n",
       "      <td>2</td>\n",
       "      <td>[11.31967544555664, 23.906352996826172]</td>\n",
       "      <td>[-0.7716585397720337, -0.700996994972229]</td>\n",
       "      <td>[-2.2452728748321533, -2.1809616088867188]</td>\n",
       "      <td>[0.10565836727619171, 0.10565836727619171]</td>\n",
       "      <td>[1, -1]</td>\n",
       "    </tr>\n",
       "    <tr>\n",
       "      <th>8</th>\n",
       "      <td>2</td>\n",
       "      <td>[10.19356918334961, 14.204060554504395]</td>\n",
       "      <td>[0.4418068528175354, 0.7021172642707825]</td>\n",
       "      <td>[0.6778520345687866, -2.0344009399414062]</td>\n",
       "      <td>[0.10565836727619171, 0.10565836727619171]</td>\n",
       "      <td>[-1, 1]</td>\n",
       "    </tr>\n",
       "    <tr>\n",
       "      <th>9</th>\n",
       "      <td>2</td>\n",
       "      <td>[11.470704078674316, 3.4690065383911133]</td>\n",
       "      <td>[2.3417420387268066, 2.3523731231689453]</td>\n",
       "      <td>[3.1309704780578613, 3.0211737155914307]</td>\n",
       "      <td>[0.10565836727619171, 0.10565836727619171]</td>\n",
       "      <td>[-1, 1]</td>\n",
       "    </tr>\n",
       "  </tbody>\n",
       "</table>\n",
       "</div>"
      ],
      "text/plain": [
       "   nMuon                                            Muon_pt  \\\n",
       "0      2           [10.763696670532227, 15.736522674560547]   \n",
       "1      2           [10.538490295410156, 16.327096939086914]   \n",
       "2      1                               [3.2753264904022217]   \n",
       "3      4  [11.429154396057129, 17.634033203125, 9.624728...   \n",
       "4      4  [3.2834417819976807, 3.64400577545166, 32.9112...   \n",
       "5      3  [3.566528081893921, 4.572504043579102, 4.37186...   \n",
       "6      2              [57.6067008972168, 53.04507827758789]   \n",
       "7      2            [11.31967544555664, 23.906352996826172]   \n",
       "8      2            [10.19356918334961, 14.204060554504395]   \n",
       "9      2           [11.470704078674316, 3.4690065383911133]   \n",
       "\n",
       "                                            Muon_eta  \\\n",
       "0           [1.0668272972106934, -0.563786506652832]   \n",
       "1        [-0.42778006196022034, 0.34922507405281067]   \n",
       "2                                [2.210855484008789]   \n",
       "3  [-1.5882395505905151, -1.7511844635009766, -1....   \n",
       "4  [-2.1724836826324463, -2.18253493309021, -1.12...   \n",
       "5  [-1.371932029724121, -0.703264594078064, -1.03...   \n",
       "6         [-0.5320892930030823, -1.0041686296463013]   \n",
       "7          [-0.7716585397720337, -0.700996994972229]   \n",
       "8           [0.4418068528175354, 0.7021172642707825]   \n",
       "9           [2.3417420387268066, 2.3523731231689453]   \n",
       "\n",
       "                                            Muon_phi  \\\n",
       "0         [-0.03427272289991379, 2.5426154136657715]   \n",
       "1           [-0.2747921049594879, 2.539781332015991]   \n",
       "2                              [-1.2234135866165161]   \n",
       "3  [-2.0773041248321533, 0.25135836005210876, -2....   \n",
       "4  [-2.3700082302093506, -2.3051390647888184, -0....   \n",
       "5  [-2.9090449810028076, 2.4552080631256104, -3.0...   \n",
       "6          [-0.07179804146289825, 3.089515209197998]   \n",
       "7         [-2.2452728748321533, -2.1809616088867188]   \n",
       "8          [0.6778520345687866, -2.0344009399414062]   \n",
       "9           [3.1309704780578613, 3.0211737155914307]   \n",
       "\n",
       "                                           Muon_mass     Muon_charge  \n",
       "0         [0.10565836727619171, 0.10565836727619171]        [-1, -1]  \n",
       "1         [0.10565836727619171, 0.10565836727619171]         [1, -1]  \n",
       "2                              [0.10565836727619171]             [1]  \n",
       "3  [0.10565836727619171, 0.10565836727619171, 0.1...    [1, 1, 1, 1]  \n",
       "4  [0.10565836727619171, 0.10565836727619171, 0.1...  [-1, -1, 1, 1]  \n",
       "5  [0.10565836727619171, 0.10565836727619171, 0.1...     [-1, 1, -1]  \n",
       "6         [0.10565836727619171, 0.10565836727619171]         [-1, 1]  \n",
       "7         [0.10565836727619171, 0.10565836727619171]         [1, -1]  \n",
       "8         [0.10565836727619171, 0.10565836727619171]         [-1, 1]  \n",
       "9         [0.10565836727619171, 0.10565836727619171]         [-1, 1]  "
      ]
     },
     "execution_count": 4,
     "metadata": {},
     "output_type": "execute_result"
    }
   ],
   "source": [
    "df_muons.limit(10).toPandas()"
   ]
  },
  {
   "cell_type": "code",
   "execution_count": 5,
   "id": "e481cb25",
   "metadata": {},
   "outputs": [],
   "source": [
    "# Apply filters to the input data\n",
    "# - select only events with 2 muons\n",
    "# - select only events where the 2 muons have opposite charge\n",
    "\n",
    "df_muons = df_muons.filter(\"nMuon == 2\").filter(\"Muon_charge[0] != Muon_charge[1]\")\n"
   ]
  },
  {
   "cell_type": "code",
   "execution_count": 6,
   "id": "1755d9e8",
   "metadata": {},
   "outputs": [],
   "source": [
    "# This computes the 4-vectors sum for the 2 moun system\n",
    "# using formulas from special relativity, in the limit E >> muons rest mass\n",
    "# see also http://edu.itp.phys.ethz.ch/hs10/ppp1/2010_11_02.pdf\n",
    "# and https://en.wikipedia.org/wiki/Invariant_mass\n",
    "\n",
    "df_with_dimuonmass = df_muons.selectExpr(\"\"\"\n",
    "     sqrt(2 * Muon_pt[0] * Muon_pt[1] * \n",
    "             ( cosh(Muon_eta[0] - Muon_eta[1]) - cos(Muon_phi[0] - Muon_phi[1]) )\n",
    "         ) as Dimuon_mass\"\"\")"
   ]
  },
  {
   "cell_type": "code",
   "execution_count": 7,
   "id": "d8b7e337",
   "metadata": {},
   "outputs": [],
   "source": [
    "# Compute the histogram of dimuon mass values\n",
    "# The Spark function \"width_bucket\" is used to generate the histogram bucket number\n",
    "# a groupBy operation with count is used to fill the histogram\n",
    "# The result is a histogram with bins value and counts foreach bin (N_events)\n",
    "\n",
    "min_val = 0.25\n",
    "max_val = 300\n",
    "num_bins = 30000\n",
    "step = (max_val - min_val) / num_bins\n",
    "\n",
    "histogram_data = ( \n",
    "    df_with_dimuonmass\n",
    "        .selectExpr(f\"width_bucket(Dimuon_mass, {min_val}, {max_val}, {num_bins}) as bucket\") \n",
    "        .groupBy(\"bucket\")\n",
    "        .count()\n",
    "        .orderBy(\"bucket\")\n",
    "    )\n",
    "\n",
    "# convert bucket number to the corresponding dimoun mass value\n",
    "histogram_data = histogram_data.selectExpr(f\"round({min_val} + (bucket - 1) * {step},2) as value\", \"count as N_events\")"
   ]
  },
  {
   "cell_type": "code",
   "execution_count": null,
   "id": "703b649a",
   "metadata": {},
   "outputs": [],
   "source": [
    "# The action toPandas() here triggers the computation.\n",
    "# Histogram data is fetched into the driver as a Pandas Dataframe.\n",
    "\n",
    "%time histogram_data_pandas=histogram_data.toPandas()\n"
   ]
  },
  {
   "cell_type": "code",
   "execution_count": 9,
   "id": "927ff9c0",
   "metadata": {
    "scrolled": false
   },
   "outputs": [
    {
     "data": {
      "image/png": "[encoded data removed]",
      "text/plain": [
       "<Figure size 1008x720 with 1 Axes>"
      ]
     },
     "metadata": {},
     "output_type": "display_data"
    }
   ],
   "source": [
    "import matplotlib.pyplot as plt \n",
    "plt.style.use('seaborn-v0_8-darkgrid')\n",
    "plt.rcParams.update({'font.size': 20, 'figure.figsize': [14,10]})\n",
    "\n",
    "f, ax = plt.subplots()\n",
    "\n",
    "# cut the first and last bin\n",
    "x = histogram_data_pandas.iloc[1:-1][\"value\"]\n",
    "y = histogram_data_pandas.iloc[1:-1][\"N_events\"]\n",
    "\n",
    "# line plot\n",
    "ax.plot(x, y, '-')\n",
    "\n",
    "# the plot is in log-log axis to better show the peaks\n",
    "ax.set_xscale(\"log\")\n",
    "ax.set_yscale(\"log\")\n",
    "ax.set_xlim(min_val, max_val)\n",
    "#ax.set_ylim(1, 6e5)\n",
    "\n",
    "ax.set_xlabel('$m_{dimuon}$ (GeV)')\n",
    "ax.set_ylabel('Number of Events')\n",
    "ax.set_title(\"Distribution of the Dimuon Mass Spectrum\")\n",
    "\n",
    "# Label for the resonances spectrum peaks\n",
    "txt_opts = {'horizontalalignment': 'center',\n",
    "            'verticalalignment': 'center',\n",
    "            'transform': ax.transAxes}\n",
    "\n",
    "plt.text(0.85, 0.75, 'Z', **txt_opts)\n",
    "plt.text(0.55, 0.77, r\"$\\Upsilon$(1,2,3S)\", **txt_opts)\n",
    "plt.text(0.37, 0.95, r\"J/$\\Psi$\", **txt_opts)\n",
    "plt.text(0.40, 0.77, r\"$\\Psi$'\", **txt_opts)\n",
    "plt.text(0.22, 0.80, r\"$\\phi$\", **txt_opts)\n",
    "plt.text(0.16, 0.83, r\"$\\rho,\\omega$\", **txt_opts)\n",
    "plt.text(0.11, 0.78, r\"$\\eta$\", **txt_opts);\n",
    "\n",
    "plt.show()"
   ]
  },
  {
   "cell_type": "code",
   "execution_count": null,
   "id": "055c2a6f",
   "metadata": {},
   "outputs": [],
   "source": [
    "spark.stop()"
   ]
  },
  {
   "cell_type": "code",
   "execution_count": null,
   "id": "4a5dcd3a",
   "metadata": {},
   "outputs": [],
   "source": []
  }
 ],
 "metadata": {
  "kernelspec": {
   "display_name": "Python 3 (ipykernel)",
   "language": "python",
   "name": "python3"
  },
  "language_info": {
   "codemirror_mode": {
    "name": "ipython",
    "version": 3
   },
   "file_extension": ".py",
   "mimetype": "text/x-python",
   "name": "python",
   "nbconvert_exporter": "python",
   "pygments_lexer": "ipython3",
   "version": "3.11.5"
  },
  "sparkconnect": {
   "bundled_options": [
    "ComputeIntensive"
   ],
   "list_of_options": [
    {
     "name": "spark.ui.showConsoleProgress",
     "value": "false"
    },
    {
     "name": "spark.sql.parquet.enableNestedColumnVectorizedReader",
     "value": "true"
    }
   ]
  }
 },
 "nbformat": 4,
 "nbformat_minor": 5
}
