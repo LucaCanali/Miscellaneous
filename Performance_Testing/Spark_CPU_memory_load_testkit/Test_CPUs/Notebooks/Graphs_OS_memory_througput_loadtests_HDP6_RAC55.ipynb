{
 "cells": [
  {
   "cell_type": "markdown",
   "id": "76b69918",
   "metadata": {},
   "source": [
    "## Graphs of memory througput measured during load tests\n",
    "This notebook creates the graphs of the memory throughput measured while running a CPu and memory intensive workload using test_Spark_CPU_memory_sparkmeasure.py  \n",
    "Measurements were taken using OS tools, notably AMD uProf (“MICRO-prof”). See also https://github.com/LucaCanali/Miscellaneous/blob/master/Performance_Testing/Tools_Linux_Memory_Perf_Measure.md\n",
    "Performance data is for testing servers of the types: HDP6 and RAC55.  \n",
    "\n",
    "We don't report the exact CPU model in this doc.\n",
    "We omit the configuration of networking and I/O, as not relevant for these tests.  \n",
    "The servers were all installed with the same OS version: RHEL 7.9.  \n",
    "Systems:  \n",
    "---\n",
    "\n",
    "HDP6:\n",
    "\n",
    "    32 physical cores (2 sockets, 16 physical cores each),  \n",
    "      64 logical cores visible on the OS due to hyperthreading\n",
    "    CPU max freq: 3.0 GHz\n",
    "    CPU from 2017, architecture Zen 2\n",
    "    L1 caches: 32K + 32K, L2 cache 512K, L3 cache 16384K\n",
    "    RAM: DDR4, 512 GB\n",
    "\n",
    "RAC55:\n",
    "\n",
    "    16 physical cores (2 sockets, 8 physical cores each), \n",
    "      32 logical cores visible on the OS due to hyperthreading\n",
    "    CPU max freq: 4.2 GHz\n",
    "    CPU from 2019, Architecture Zen 3\n",
    "    L1 caches: 32K + 32K, L2 cache 512K, L3 cache 32768K\n",
    "    RAM: DDR4, 1 TB\n",
    " "
   ]
  },
  {
   "cell_type": "code",
   "execution_count": 1,
   "id": "92604f42",
   "metadata": {},
   "outputs": [],
   "source": [
    "# This notebook uses pandas to read and process Data in csv format\n",
    "import pandas as pd"
   ]
  },
  {
   "cell_type": "code",
   "execution_count": 2,
   "id": "63455157",
   "metadata": {},
   "outputs": [],
   "source": [
    "# Path to the data\n",
    "# Data comes from the output of the tool test_Spark_CPU_memory_sparkmeasure.py  \n",
    "# See https://github.com/LucaCanali/Miscellaneous/tree/master/Perf_Testing\n",
    "PATH = \"../Data/\""
   ]
  },
  {
   "cell_type": "code",
   "execution_count": 11,
   "id": "3b192b63",
   "metadata": {},
   "outputs": [],
   "source": [
    "data = []\n",
    "data.append({'key': 'HDP6', 'val': pd.read_csv(PATH + \"memory_throughput_HDP6.csv\", sep = ',')})\n",
    "data.append({'key': 'RAC55', 'val': pd.read_csv(PATH + \"memory_throughput_RAC55.csv\", sep = ',')})"
   ]
  },
  {
   "cell_type": "code",
   "execution_count": 12,
   "id": "84030a28",
   "metadata": {},
   "outputs": [
    {
     "data": {
      "text/html": [
       "<div>\n",
       "<style scoped>\n",
       "    .dataframe tbody tr th:only-of-type {\n",
       "        vertical-align: middle;\n",
       "    }\n",
       "\n",
       "    .dataframe tbody tr th {\n",
       "        vertical-align: top;\n",
       "    }\n",
       "\n",
       "    .dataframe thead th {\n",
       "        text-align: right;\n",
       "    }\n",
       "</style>\n",
       "<table border=\"1\" class=\"dataframe\">\n",
       "  <thead>\n",
       "    <tr style=\"text-align: right;\">\n",
       "      <th></th>\n",
       "      <th>Num_concurrent_tasks</th>\n",
       "      <th>Memory_throughput_GBs</th>\n",
       "    </tr>\n",
       "  </thead>\n",
       "  <tbody>\n",
       "    <tr>\n",
       "      <th>0</th>\n",
       "      <td>72</td>\n",
       "      <td>179</td>\n",
       "    </tr>\n",
       "    <tr>\n",
       "      <th>1</th>\n",
       "      <td>64</td>\n",
       "      <td>178</td>\n",
       "    </tr>\n",
       "    <tr>\n",
       "      <th>2</th>\n",
       "      <td>56</td>\n",
       "      <td>170</td>\n",
       "    </tr>\n",
       "    <tr>\n",
       "      <th>3</th>\n",
       "      <td>48</td>\n",
       "      <td>158</td>\n",
       "    </tr>\n",
       "    <tr>\n",
       "      <th>4</th>\n",
       "      <td>40</td>\n",
       "      <td>149</td>\n",
       "    </tr>\n",
       "  </tbody>\n",
       "</table>\n",
       "</div>"
      ],
      "text/plain": [
       "   Num_concurrent_tasks  Memory_throughput_GBs\n",
       "0                    72                    179\n",
       "1                    64                    178\n",
       "2                    56                    170\n",
       "3                    48                    158\n",
       "4                    40                    149"
      ]
     },
     "execution_count": 12,
     "metadata": {},
     "output_type": "execute_result"
    }
   ],
   "source": [
    "data[0].get('val').head()"
   ]
  },
  {
   "cell_type": "code",
   "execution_count": 13,
   "id": "bb532764",
   "metadata": {},
   "outputs": [
    {
     "data": {
      "text/plain": [
       "Index(['Num_concurrent_tasks', 'Memory_throughput_GBs'], dtype='object')"
      ]
     },
     "execution_count": 13,
     "metadata": {},
     "output_type": "execute_result"
    }
   ],
   "source": [
    "data[0].get('val').columns"
   ]
  },
  {
   "cell_type": "code",
   "execution_count": 14,
   "id": "991149a0",
   "metadata": {},
   "outputs": [
    {
     "data": {
      "text/plain": [
       "<Figure size 640x480 with 0 Axes>"
      ]
     },
     "metadata": {},
     "output_type": "display_data"
    }
   ],
   "source": [
    "# Common code for Graphs setup and configuration\n",
    "\n",
    "import matplotlib.pyplot as plt\n",
    "plt.clf()\n",
    "plt.style.use('default')\n",
    "\n",
    "width = 12\n",
    "height = 5\n",
    "\n",
    "node_config = {1: {'name': 'HDP6', 'linestyle': 'solid', 'color': 'black', 'alpha': 1.0, 'linewidth': 3}, \n",
    "               2: {'name': 'RAC55', 'linestyle': 'solid', 'color': 'red', 'alpha': 1.0, 'linewidth': 3}\n",
    "              }\n"
   ]
  },
  {
   "cell_type": "markdown",
   "id": "8030be68",
   "metadata": {},
   "source": [
    "### Plot measured memory througput as a function of number of concurrent workers\n",
    "This was measured using OS tools while the the memory-intensive tests were running.  \n",
    "Measurements were taken on AMD systems using AMD uProf (“MICRO-prof”) tool:  \n",
    "`/opt/AMDuProf_4.0-341/bin/AMDuProfPcm -m memory -a -d 20 -C -A system`"
   ]
  },
  {
   "cell_type": "code",
   "execution_count": 15,
   "id": "3f7461c5",
   "metadata": {
    "scrolled": false
   },
   "outputs": [
    {
     "data": {
      "image/png": "[encoded data removed]",
      "text/plain": [
       "<Figure size 1200x500 with 1 Axes>"
      ]
     },
     "metadata": {},
     "output_type": "display_data"
    }
   ],
   "source": [
    "# Job duration\n",
    "fig, ax = plt.subplots(figsize=(width, height))\n",
    "\n",
    "for i, measurement in enumerate(data):\n",
    "    df = measurement.get('val')\n",
    "    instance = i + 1\n",
    "    df.plot(kind='scatter', x='Num_concurrent_tasks', y='Memory_throughput_GBs', ax=ax, \n",
    "               linestyle=node_config[instance]['linestyle'],\n",
    "               color=node_config[instance]['color'],\n",
    "               alpha=node_config[instance]['alpha'],\n",
    "               linewidth=node_config[instance]['linewidth'],\n",
    "               label=node_config[instance]['name'])\n",
    "\n",
    "ax.set_title(\"Measured memory throughput (this shows the memory throughput increases with load\")\n",
    "#ax.set_ylim([20, 40])\n",
    "ax.set_xlabel('Number of concurrent workers')\n",
    "ax.set_ylabel('Memory throughput (GB/sec)')\n",
    "\n",
    "ax.grid()\n",
    "plt.show()"
   ]
  },
  {
   "cell_type": "code",
   "execution_count": null,
   "id": "efaeb7ac",
   "metadata": {},
   "outputs": [],
   "source": []
  }
 ],
 "metadata": {
  "kernelspec": {
   "display_name": "Python 3 (ipykernel)",
   "language": "python",
   "name": "python3"
  },
  "language_info": {
   "codemirror_mode": {
    "name": "ipython",
    "version": 3
   },
   "file_extension": ".py",
   "mimetype": "text/x-python",
   "name": "python",
   "nbconvert_exporter": "python",
   "pygments_lexer": "ipython3",
   "version": "3.10.9"
  }
 },
 "nbformat": 4,
 "nbformat_minor": 5
}
